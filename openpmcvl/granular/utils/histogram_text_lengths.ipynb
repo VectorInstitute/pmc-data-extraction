{
 "cells": [
  {
   "cell_type": "code",
   "execution_count": 1,
   "metadata": {},
   "outputs": [
    {
     "name": "stderr",
     "output_type": "stream",
     "text": [
      "/projects/aieng/diffusion_bootcamp/env/diffusion-models-bootcamp-yasaman-in14eNW_-py3.9/lib/python3.9/site-packages/tqdm/auto.py:21: TqdmWarning: IProgress not found. Please update jupyter and ipywidgets. See https://ipywidgets.readthedocs.io/en/stable/user_install.html\n",
      "  from .autonotebook import tqdm as notebook_tqdm\n"
     ]
    }
   ],
   "source": [
    "import os\n",
    "import json\n",
    "import torch\n",
    "from transformers import BertTokenizer\n",
    "import matplotlib.pyplot as plt\n",
    "import pickle\n",
    "from time import time\n",
    "from datetime import timedelta"
   ]
  },
  {
   "cell_type": "code",
   "execution_count": 2,
   "metadata": {},
   "outputs": [
    {
     "name": "stdout",
     "output_type": "stream",
     "text": [
      "0.jsonl\n",
      "1.jsonl\n",
      "2.jsonl\n",
      "3.jsonl\n",
      "4.jsonl\n",
      "5.jsonl\n",
      "6.jsonl\n",
      "7.jsonl\n",
      "8.jsonl\n",
      "9.jsonl\n",
      "10.jsonl\n",
      "11.jsonl\n"
     ]
    }
   ],
   "source": [
    "# get file names\n",
    "rootdir = \"/datasets/PMC-15M/\"\n",
    "filenames = [fname for fname in os.listdir(rootdir) if fname.endswith(\".jsonl\") and not fname.endswith(\"_refs.jsonl\")]\n",
    "filenames = sorted(filenames, key=lambda x: int(x.replace(\".jsonl\", \"\")))\n",
    "print(\"\\n\".join(filenames))\n",
    "\n",
    "# create results directory\n",
    "if not os.path.exists(os.path.join(rootdir, \"text_lengths\")):\n",
    "    os.mkdir(os.path.join(rootdir, \"text_lengths\"))"
   ]
  },
  {
   "cell_type": "code",
   "execution_count": null,
   "metadata": {},
   "outputs": [],
   "source": [
    "# load tokenizer\n",
    "tokenizer = BertTokenizer.from_pretrained(\"bert-base-uncased\")\n",
    "\n",
    "stime = time()\n",
    "\n",
    "for fname in filenames:\n",
    "    text_lengths = []\n",
    "    print(f\"[{timedelta(seconds=int(time() - stime))}] Loading file {fname}...\")\n",
    "    # load data\n",
    "    with open(os.path.join(rootdir, fname)) as f:\n",
    "        data = [json.loads(line)[\"caption\"] for line in f]\n",
    "\n",
    "    print(f\"[{timedelta(seconds=int(time() - stime))}] Extracting caption lengths in {fname}...\")\n",
    "    for caption in data:\n",
    "        tokens = tokenizer(caption, return_tensors='pt')\n",
    "        text_lengths.append(tokens[\"input_ids\"].reshape(-1).shape[0])\n",
    "    \n",
    "    print(f\"[{timedelta(seconds=int(time() - stime))}] Saving caption lengths of {fname}...\")\n",
    "    save_path = os.path.join(rootdir, \"text_lengths\", fname.replace(\".jsonl\", \".pkl\"))\n",
    "    with open(save_path, \"wb\") as f:\n",
    "        pickle.dump(text_lengths, f)\n",
    "    print(f\"[{timedelta(seconds=int(time() - stime))}] Saved caption lengths in {save_path}...\")\n",
    "print(f\"[{timedelta(seconds=int(time() - stime))}] Successfully processed all files in {rootdir}\")"
   ]
  },
  {
   "cell_type": "code",
   "execution_count": 3,
   "metadata": {},
   "outputs": [
    {
     "data": {
      "text/plain": [
       "['8.pkl',\n",
       " '5.pkl',\n",
       " '3.pkl',\n",
       " '1.pkl',\n",
       " '6.pkl',\n",
       " '7.pkl',\n",
       " '4.pkl',\n",
       " '2.pkl',\n",
       " '0.pkl']"
      ]
     },
     "execution_count": 3,
     "metadata": {},
     "output_type": "execute_result"
    }
   ],
   "source": [
    "os.listdir(os.path.join(rootdir, \"text_lengths\"))"
   ]
  },
  {
   "cell_type": "code",
   "execution_count": 3,
   "metadata": {},
   "outputs": [
    {
     "name": "stdout",
     "output_type": "stream",
     "text": [
      "(11163147,)\n"
     ]
    }
   ],
   "source": [
    "import numpy as np\n",
    "\n",
    "# load saved pickle files\n",
    "text_lengths = []\n",
    "for fname in os.listdir(os.path.join(rootdir, \"text_lengths\")):\n",
    "    filename = os.path.join(rootdir, \"text_lengths\", fname)\n",
    "    with open(filename, \"rb\") as f:\n",
    "        text_lengths.extend(pickle.load(f))\n",
    "\n",
    "text_lengths = np.array(text_lengths)\n",
    "print(text_lengths.shape)"
   ]
  },
  {
   "cell_type": "code",
   "execution_count": 9,
   "metadata": {},
   "outputs": [
    {
     "data": {
      "image/png": "[encoded data removed]",
      "text/plain": [
       "<Figure size 640x480 with 1 Axes>"
      ]
     },
     "metadata": {},
     "output_type": "display_data"
    }
   ],
   "source": [
    "# plot histogram\n",
    "\n",
    "values, bins, patches = plt.hist(text_lengths, bins=1000)"
   ]
  },
  {
   "cell_type": "code",
   "execution_count": 10,
   "metadata": {},
   "outputs": [
    {
     "data": {
      "text/plain": [
       "array([2.000000e+00, 1.062300e+01, 1.924600e+01, ..., 8.607754e+03,\n",
       "       8.616377e+03, 8.625000e+03])"
      ]
     },
     "execution_count": 10,
     "metadata": {},
     "output_type": "execute_result"
    }
   ],
   "source": [
    "bins"
   ]
  },
  {
   "cell_type": "code",
   "execution_count": 11,
   "metadata": {},
   "outputs": [
    {
     "name": "stdout",
     "output_type": "stream",
     "text": [
      "peak of histogram: (10.623, 913232.0)\n"
     ]
    }
   ],
   "source": [
    "# compute peak\n",
    "print(f\"peak of histogram: {sorted(list(zip(bins, values)), key=lambda x: x[1], reverse=True)[0]}\")"
   ]
  },
  {
   "cell_type": "code",
   "execution_count": 13,
   "metadata": {},
   "outputs": [
    {
     "data": {
      "text/plain": [
       "625.0"
      ]
     },
     "execution_count": 13,
     "metadata": {},
     "output_type": "execute_result"
    }
   ],
   "source": [
    "# compute quantile\n",
    "np.quantile(text_lengths, q=0.99)"
   ]
  },
  {
   "cell_type": "code",
   "execution_count": 8,
   "metadata": {},
   "outputs": [
    {
     "data": {
      "text/plain": [
       "{'whiskers': [<matplotlib.lines.Line2D at 0x7f11f11862b0>,\n",
       "  <matplotlib.lines.Line2D at 0x7f11f1186550>],\n",
       " 'caps': [<matplotlib.lines.Line2D at 0x7f11f11867f0>,\n",
       "  <matplotlib.lines.Line2D at 0x7f11f1186a90>],\n",
       " 'boxes': [<matplotlib.lines.Line2D at 0x7f11f11f5fd0>],\n",
       " 'medians': [<matplotlib.lines.Line2D at 0x7f11f1186d30>],\n",
       " 'fliers': [<matplotlib.lines.Line2D at 0x7f11f1186fd0>],\n",
       " 'means': []}"
      ]
     },
     "execution_count": 8,
     "metadata": {},
     "output_type": "execute_result"
    },
    {
     "data": {
      "image/png": "[encoded data removed]",
      "text/plain": [
       "<Figure size 640x480 with 1 Axes>"
      ]
     },
     "metadata": {},
     "output_type": "display_data"
    }
   ],
   "source": [
    "plt.boxplot(text_lengths)"
   ]
  },
  {
   "cell_type": "code",
   "execution_count": 19,
   "metadata": {},
   "outputs": [
    {
     "data": {
      "text/plain": [
       "0.8604472376830655"
      ]
     },
     "execution_count": 19,
     "metadata": {},
     "output_type": "execute_result"
    }
   ],
   "source": [
    "np.sum(text_lengths < 256) / len(text_lengths)"
   ]
  },
  {
   "cell_type": "code",
   "execution_count": 12,
   "metadata": {},
   "outputs": [
    {
     "data": {
      "text/plain": [
       "array([0.  , 0.01, 0.02, 0.03, 0.04, 0.05, 0.06, 0.07, 0.08, 0.09, 0.1 ,\n",
       "       0.11, 0.12, 0.13, 0.14, 0.15, 0.16, 0.17, 0.18, 0.19, 0.2 , 0.21,\n",
       "       0.22, 0.23, 0.24, 0.25, 0.26, 0.27, 0.28, 0.29, 0.3 , 0.31, 0.32,\n",
       "       0.33, 0.34, 0.35, 0.36, 0.37, 0.38, 0.39, 0.4 , 0.41, 0.42, 0.43,\n",
       "       0.44, 0.45, 0.46, 0.47, 0.48, 0.49, 0.5 , 0.51, 0.52, 0.53, 0.54,\n",
       "       0.55, 0.56, 0.57, 0.58, 0.59, 0.6 , 0.61, 0.62, 0.63, 0.64, 0.65,\n",
       "       0.66, 0.67, 0.68, 0.69, 0.7 , 0.71, 0.72, 0.73, 0.74, 0.75, 0.76,\n",
       "       0.77, 0.78, 0.79, 0.8 , 0.81, 0.82, 0.83, 0.84, 0.85, 0.86, 0.87,\n",
       "       0.88, 0.89, 0.9 , 0.91, 0.92, 0.93, 0.94, 0.95, 0.96, 0.97, 0.98,\n",
       "       0.99, 1.  ])"
      ]
     },
     "execution_count": 12,
     "metadata": {},
     "output_type": "execute_result"
    }
   ],
   "source": [
    "# compute q-values for 256 and 512 tokens\n",
    "from scipy import special\n",
    "\n",
    "f = np.linspace(0,1,101)\n",
    "f"
   ]
  },
  {
   "cell_type": "code",
   "execution_count": null,
   "metadata": {},
   "outputs": [],
   "source": [
    "0.5 - 0.5  * special.erf(f / np.sqrt(2)) # Q(f) = 0.5 - 0.5 erf(f/sqrt(2))"
   ]
  }
 ],
 "metadata": {
  "kernelspec": {
   "display_name": "diffusion_boot_yasaman",
   "language": "python",
   "name": "diffusion_boot_yasaman"
  },
  "language_info": {
   "codemirror_mode": {
    "name": "ipython",
    "version": 3
   },
   "file_extension": ".py",
   "mimetype": "text/x-python",
   "name": "python",
   "nbconvert_exporter": "python",
   "pygments_lexer": "ipython3",
   "version": "3.9.12"
  }
 },
 "nbformat": 4,
 "nbformat_minor": 2
}

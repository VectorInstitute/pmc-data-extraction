{
 "cells": [
  {
   "cell_type": "code",
   "execution_count": 51,
   "metadata": {},
   "outputs": [
    {
     "name": "stdout",
     "output_type": "stream",
     "text": [
      "┏━━━━━━━━━━━━━━━┳━━━━━━━━━━━━━━━━━━━━━━━━━━━━┓\n",
      "┃\u001b[1;35m \u001b[0m\u001b[1;35mJob Config   \u001b[0m\u001b[1;35m \u001b[0m┃\u001b[1;35m \u001b[0m\u001b[1;35mValue                     \u001b[0m\u001b[1;35m \u001b[0m┃\n",
      "┡━━━━━━━━━━━━━━━╇━━━━━━━━━━━━━━━━━━━━━━━━━━━━┩\n",
      "│\u001b[2;34m \u001b[0m\u001b[2;34mSlurm Job ID \u001b[0m\u001b[2;34m \u001b[0m│\u001b[34m \u001b[0m\u001b[34m13403958                  \u001b[0m\u001b[34m \u001b[0m│\n",
      "│\u001b[2m \u001b[0m\u001b[2mJob Name     \u001b[0m\u001b[2m \u001b[0m│ Meta-Llama-3.1-8B-Instruct │\n",
      "│\u001b[2m \u001b[0m\u001b[2mPartition    \u001b[0m\u001b[2m \u001b[0m│ a40                        │\n",
      "│\u001b[2m \u001b[0m\u001b[2mNum Nodes    \u001b[0m\u001b[2m \u001b[0m│ 1                          │\n",
      "│\u001b[2m \u001b[0m\u001b[2mGPUs per Node\u001b[0m\u001b[2m \u001b[0m│ 1                          │\n",
      "│\u001b[2m \u001b[0m\u001b[2mQOS          \u001b[0m\u001b[2m \u001b[0m│ normal                     │\n",
      "│\u001b[2m \u001b[0m\u001b[2mWalltime     \u001b[0m\u001b[2m \u001b[0m│ 04:00:00                   │\n",
      "│\u001b[2m \u001b[0m\u001b[2mData Type    \u001b[0m\u001b[2m \u001b[0m│ auto                       │\n",
      "└───────────────┴────────────────────────────┘\n"
     ]
    }
   ],
   "source": [
    "!vec-inf launch llama-3.1 --model-variant=\"8B-Instruct\" --qos=\"normal\""
   ]
  },
  {
   "cell_type": "code",
   "execution_count": 10,
   "metadata": {},
   "outputs": [
    {
     "name": "stdout",
     "output_type": "stream",
     "text": [
      "Dataset size: 9568\n"
     ]
    },
    {
     "data": {
      "text/plain": [
       "{'PMC_ID': 'PMC193607',\n",
       " 'media_id': 'pbio-0000031-g001',\n",
       " 'caption': 'Electron micrograph of Proteobacteria in eukaryotic cell',\n",
       " 'media_url': 'https://www.ncbi.nlm.nih.gov/pmc/articles/PMC193607/bin/pbio.0000031.g001.jpg',\n",
       " 'media_name': 'PMC193607_pbio-0000031-g001.jpg'}"
      ]
     },
     "execution_count": 10,
     "metadata": {},
     "output_type": "execute_result"
    }
   ],
   "source": [
    "from openai import OpenAI\n",
    "client = OpenAI(base_url=\"http://gpu003:8080/v1\", api_key=\"EMPTY\")\n",
    "\n",
    "DATA_ROOT = '/datasets/PMC-15M'\n",
    "SAMPLE_DATA = f'{DATA_ROOT}/0.jsonl'\n",
    "\n",
    "# Load sample jsonl file\n",
    "with open(SAMPLE_DATA, 'r') as f:\n",
    "    dataset = [eval(line) for line in f]\n",
    "\n",
    "print(f\"Dataset size: {len(dataset)}\"); dataset[23]"
   ]
  },
  {
   "cell_type": "code",
   "execution_count": 295,
   "metadata": {},
   "outputs": [
    {
     "name": "stdout",
     "output_type": "stream",
     "text": [
      "Length of prompt: 68, Length of caption: 272\n",
      "\n",
      " Affinity Purification of Emerin-Associated Proteins(A) Immunoblot of HeLa nuclear lysate proteins (L), or proteins affinity-purified using either BSA beads or emerin beads (see Materials and Methods), probed with antibody against actin.(B) HeLa nuclear lysate proteins (L) were immunoprecipitated using either immune (Im) or preimmune (PI) serum 2999 against emerin, resolved by SDS-PAGE, and Western blotted using antibodies specific for actin (upper panel) or emerin (lower panel), in succession.(C) Cosedimentation assays using F-actin and purified, recombinant wild-type emerin (residues 1–222). G-actin (2 μM) was polymerized and then incubated in the absence or presence of 2 μM emerin. Emerin was incubated alone in polymerization buffer as a negative control. After 30 min samples were centrifuged 1 h at 100,000g, resolved by SDS-PAGE, and stained with Coomassie blue. L, load (100%); S, supernatant (100%); P, pellet (100%).(D) F-actin column was used to determine the affinity of F-actin for emerin. The Kd was 480 nM for the experiment shown; range was 300–500 nM, n = 8.(E) Binding of wild-type (WT) or mutant emerin protein to F-actin beads. Recombinant emerin proteins were incubated with F-actin beads, and bound emerins were eluted with SDS-PAGE sample buffer, resolved by SDS-PAGE, blotted, and probed with antibodies against emerin (“bound”; all emerin mutants are recognized by this antibody; Lee et al. 2001; Holaska et al. 2003). The input amounts (10%) of each emerin mutant (“load”) were visualized either by immunoblotting (top row, top panel) or Coomassie staining (top row, bottom panel).(F) Domains in emerin required for binding to BAF, lamin A, transcription repressor GCL, or actin (Lee et al. 2001; Holaska et al. 2003; present study). Asterisks indicate EDMD disease-causing mutations.\n"
     ]
    }
   ],
   "source": [
    "SYSTEM_PROMPT = \"\"\"\n",
    "Subfigure labels are letters referring to individual subfigures within a larger figure.\n",
    "Check if the caption contains explicit subfigure label. \n",
    "If not or there is only one subfigure, output \"NO\" and end the generation. \n",
    "If yes, output \"YES\", then generate the subcaption of the subfigures according to the caption. \n",
    "The output should use the template: Yes.\\n Subfigure-A: ... \\n Subfigure-B: ... \\n ......\n",
    "The label should be removed from subcaption.\n",
    "\"\"\".strip()\n",
    "\n",
    "# ================================================================================================================================================================================== #\n",
    "\n",
    "# SYSTEM_PROMPT = \"\"\"\n",
    "# You are an expert in analyzing figure captions, breaking them into subcaptions.\n",
    "# - Determine if the caption contains excplicit labeled subfigures (A, B, ...).\n",
    "# - If one or zero subfigures, respond with \"NO\" and exit generation.\n",
    "# - If more than one subfigures exist, respond with \"YES\" followed by:\n",
    "#     Subfigure-A: [Content for A, excluding label]\n",
    "#     Subfigure-B: [Content for B, excluding label]\n",
    "#     [Continue for additional subfigures]\n",
    "# - If there was only one or zero subfigures, end with \"NONE\".\n",
    "# \"\"\".strip()\n",
    "\n",
    "caption = dataset[1112]['caption']  #116 + 1002 #2575 #2100+3821 #2100+1015 #6125 #9476 #123 #4721 #2512 #5555 #12\n",
    "\n",
    "USER_PROMPT = f\"\"\"\n",
    "Caption: \\n{caption}\n",
    "\"\"\".strip()\n",
    "\n",
    "print(f\"Length of prompt: {len(SYSTEM_PROMPT.split(' '))}, Length of caption: {len(caption.split(' '))}\\n\\n {caption}\")"
   ]
  },
  {
   "cell_type": "code",
   "execution_count": 296,
   "metadata": {},
   "outputs": [
    {
     "name": "stdout",
     "output_type": "stream",
     "text": [
      "YES.\n",
      " Subfigure-A: Immunoblot of HeLa nuclear lysate proteins (L), or proteins affinity-purified using either BSA beads or emerin beads (see Materials and Methods), probed with antibody against actin.\n",
      " Subfigure-B: HeLa nuclear lysate proteins (L) were immunoprecipitated using either immune (Im) or preimmune (PI) serum 2999 against emerin, resolved by SDS-PAGE, and Western blotted using antibodies specific for actin (upper panel) or emerin (lower panel), in succession.\n",
      " Subfigure-C: Cosedimentation assays using F-actin and purified, recombinant wild-type emerin (residues 1–222). G-actin (2 μM) was polymerized and then incubated in the absence or presence of 2 μM emerin. Emerin was incubated alone in polymerization buffer as a negative control. After 30 min samples were centrifuged 1 h at 100,000g, resolved by SDS-PAGE, and stained with Coomassie blue. L, load (100%); S, supernatant (100%); P, pellet (100%).\n",
      " Subfigure-D: F-actin column was used to determine the affinity of F-actin for emerin. The Kd was 480 nM for the experiment shown; range was 300–500 nM, n = 8.\n",
      " Subfigure-E: Binding of wild-type (WT) or mutant emerin protein to F-actin beads. Recombinant emerin proteins were incubated with F-actin beads, and bound emerins were eluted with SDS-PAGE sample buffer, resolved by SDS-PAGE, blotted, and probed with antibodies against emerin (“bound”; all emerin mutants are recognized by this antibody; Lee et al. 2001; Holaska et al. 2003). The input amounts (10%) of each emerin mutant (“load”) were visualized either by immunoblotting (top row, top panel) or Coomassie staining (top row, bottom panel).\n",
      " Subfigure-F: Domains in emerin required for binding to BAF, lamin A, transcription repressor GCL, or actin (Lee et al. 2001; Holaska et al. 2003; present study). Asterisks indicate EDMD\n"
     ]
    }
   ],
   "source": [
    "completion = client.chat.completions.create(\n",
    "  model=\"/model-weights/Meta-Llama-3.1-8B-Instruct\",\n",
    "  messages=[\n",
    "    {\"role\": \"system\", \"content\": SYSTEM_PROMPT},\n",
    "    {\"role\": \"user\", \"content\": USER_PROMPT},\n",
    "  ],\n",
    "  temperature=0,\n",
    "  max_tokens=500,\n",
    ")\n",
    "\n",
    "print(completion.choices[0].message.content)"
   ]
  }
 ],
 "metadata": {
  "kernelspec": {
   "display_name": "Python 3 (ipykernel)",
   "language": "python",
   "name": "python3"
  },
  "language_info": {
   "codemirror_mode": {
    "name": "ipython",
    "version": 3
   },
   "file_extension": ".py",
   "mimetype": "text/x-python",
   "name": "python",
   "nbconvert_exporter": "python",
   "pygments_lexer": "ipython3",
   "version": "3.10.9"
  }
 },
 "nbformat": 4,
 "nbformat_minor": 2
}
